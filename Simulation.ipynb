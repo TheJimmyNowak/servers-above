{
 "cells": [
  {
   "cell_type": "code",
   "execution_count": 1,
   "metadata": {
    "pycharm": {
     "name": "#%%\n"
    }
   },
   "outputs": [],
   "source": [
    "EARTH_RADIUS = 6738 * 1000  #  Radius in [m]"
   ]
  },
  {
   "cell_type": "code",
   "execution_count": 2,
   "metadata": {
    "pycharm": {
     "name": "#%%\n"
    }
   },
   "outputs": [],
   "source": [
    "from body import Body\n",
    "\n",
    "ground = Body(EARTH_RADIUS, \"ground station\")\n",
    "server = Body(EARTH_RADIUS + 422 * 10 ** 3, \"server\")\n",
    "satellite = Body(EARTH_RADIUS + 35678 * 10 ** 3, \"satellite\")\n",
    "\n",
    "bodies = (ground, server, satellite)"
   ]
  },
  {
   "cell_type": "code",
   "execution_count": 4,
   "outputs": [
    {
     "name": "stderr",
     "output_type": "stream",
     "text": [
      "MovieWriter imagemagic unavailable; using Pillow instead.\n"
     ]
    },
    {
     "ename": "IndexError",
     "evalue": "list index out of range",
     "output_type": "error",
     "traceback": [
      "\u001B[0;31m---------------------------------------------------------------------------\u001B[0m",
      "\u001B[0;31mValueError\u001B[0m                                Traceback (most recent call last)",
      "File \u001B[0;32m~/Documents/serversabove/test/venv/lib/python3.9/site-packages/matplotlib/animation.py:236\u001B[0m, in \u001B[0;36mAbstractMovieWriter.saving\u001B[0;34m(self, fig, outfile, dpi, *args, **kwargs)\u001B[0m\n\u001B[1;32m    235\u001B[0m \u001B[38;5;28;01mtry\u001B[39;00m:\n\u001B[0;32m--> 236\u001B[0m     \u001B[38;5;28;01myield\u001B[39;00m \u001B[38;5;28mself\u001B[39m\n\u001B[1;32m    237\u001B[0m \u001B[38;5;28;01mfinally\u001B[39;00m:\n",
      "File \u001B[0;32m~/Documents/serversabove/test/venv/lib/python3.9/site-packages/matplotlib/animation.py:1078\u001B[0m, in \u001B[0;36mAnimation.save\u001B[0;34m(self, filename, writer, fps, dpi, codec, bitrate, extra_args, metadata, extra_anim, savefig_kwargs, progress_callback)\u001B[0m\n\u001B[1;32m   1077\u001B[0m \u001B[38;5;28;01mfor\u001B[39;00m anim \u001B[38;5;129;01min\u001B[39;00m all_anim:\n\u001B[0;32m-> 1078\u001B[0m     \u001B[43manim\u001B[49m\u001B[38;5;241;43m.\u001B[39;49m\u001B[43m_init_draw\u001B[49m\u001B[43m(\u001B[49m\u001B[43m)\u001B[49m  \u001B[38;5;66;03m# Clear the initial frame\u001B[39;00m\n\u001B[1;32m   1079\u001B[0m frame_number \u001B[38;5;241m=\u001B[39m \u001B[38;5;241m0\u001B[39m\n",
      "File \u001B[0;32m~/Documents/serversabove/test/venv/lib/python3.9/site-packages/matplotlib/animation.py:1698\u001B[0m, in \u001B[0;36mFuncAnimation._init_draw\u001B[0;34m(self)\u001B[0m\n\u001B[1;32m   1697\u001B[0m         \u001B[38;5;28;01mreturn\u001B[39;00m\n\u001B[0;32m-> 1698\u001B[0m     \u001B[38;5;28;43mself\u001B[39;49m\u001B[38;5;241;43m.\u001B[39;49m\u001B[43m_draw_frame\u001B[49m\u001B[43m(\u001B[49m\u001B[43mframe_data\u001B[49m\u001B[43m)\u001B[49m\n\u001B[1;32m   1699\u001B[0m \u001B[38;5;28;01melse\u001B[39;00m:\n",
      "File \u001B[0;32m~/Documents/serversabove/test/venv/lib/python3.9/site-packages/matplotlib/animation.py:1720\u001B[0m, in \u001B[0;36mFuncAnimation._draw_frame\u001B[0;34m(self, framedata)\u001B[0m\n\u001B[1;32m   1718\u001B[0m \u001B[38;5;66;03m# Call the func with framedata and args. If blitting is desired,\u001B[39;00m\n\u001B[1;32m   1719\u001B[0m \u001B[38;5;66;03m# func needs to return a sequence of any artists that were modified.\u001B[39;00m\n\u001B[0;32m-> 1720\u001B[0m \u001B[38;5;28mself\u001B[39m\u001B[38;5;241m.\u001B[39m_drawn_artists \u001B[38;5;241m=\u001B[39m \u001B[38;5;28;43mself\u001B[39;49m\u001B[38;5;241;43m.\u001B[39;49m\u001B[43m_func\u001B[49m\u001B[43m(\u001B[49m\u001B[43mframedata\u001B[49m\u001B[43m,\u001B[49m\u001B[43m \u001B[49m\u001B[38;5;241;43m*\u001B[39;49m\u001B[38;5;28;43mself\u001B[39;49m\u001B[38;5;241;43m.\u001B[39;49m\u001B[43m_args\u001B[49m\u001B[43m)\u001B[49m\n\u001B[1;32m   1722\u001B[0m \u001B[38;5;28;01mif\u001B[39;00m \u001B[38;5;28mself\u001B[39m\u001B[38;5;241m.\u001B[39m_blit:\n",
      "File \u001B[0;32m~/Documents/serversabove/test/animator.py:38\u001B[0m, in \u001B[0;36mAnimator._create_animation_frame\u001B[0;34m(self, t)\u001B[0m\n\u001B[1;32m     36\u001B[0m plt\u001B[38;5;241m.\u001B[39mcla()\n\u001B[0;32m---> 38\u001B[0m \u001B[38;5;28;01mfor\u001B[39;00m body_positions \u001B[38;5;129;01min\u001B[39;00m \u001B[38;5;28;43mself\u001B[39;49m\u001B[38;5;241;43m.\u001B[39;49m\u001B[43m_generate_bodies_positions\u001B[49m\u001B[43m(\u001B[49m\u001B[43m)\u001B[49m:  \u001B[38;5;66;03m# TODO: Cut returned value\u001B[39;00m\n\u001B[1;32m     39\u001B[0m     plt\u001B[38;5;241m.\u001B[39mplot(body_positions[\u001B[38;5;241m0\u001B[39m], body_positions[\u001B[38;5;241m1\u001B[39m], body_positions[\u001B[38;5;241m2\u001B[39m])\n",
      "File \u001B[0;32m~/Documents/serversabove/test/animator.py:26\u001B[0m, in \u001B[0;36mAnimator._generate_bodies_positions\u001B[0;34m(self)\u001B[0m\n\u001B[1;32m     25\u001B[0m \u001B[38;5;28;01mfor\u001B[39;00m index, body \u001B[38;5;129;01min\u001B[39;00m \u001B[38;5;28menumerate\u001B[39m(\u001B[38;5;28mself\u001B[39m\u001B[38;5;241m.\u001B[39mbodies):\n\u001B[0;32m---> 26\u001B[0m     positions[index\u001B[38;5;241m*\u001B[39m\u001B[38;5;241m3\u001B[39m:(index\u001B[38;5;241m+\u001B[39m\u001B[38;5;241m1\u001B[39m)\u001B[38;5;241m*\u001B[39m\u001B[38;5;241m3\u001B[39m, :] \u001B[38;5;241m=\u001B[39m \u001B[43mbody\u001B[49m\u001B[38;5;241;43m.\u001B[39;49m\u001B[43mget_pos_by_timeseries\u001B[49m\u001B[43m(\u001B[49m\u001B[38;5;28;43mself\u001B[39;49m\u001B[38;5;241;43m.\u001B[39;49m\u001B[43mtimeseries\u001B[49m\u001B[43m)\u001B[49m\u001B[38;5;241;43m.\u001B[39;49m\u001B[43mreshape\u001B[49m\u001B[43m(\u001B[49m\u001B[43m(\u001B[49m\u001B[38;5;241;43m3\u001B[39;49m\u001B[43m,\u001B[49m\u001B[43m \u001B[49m\u001B[38;5;241;43m1\u001B[39;49m\u001B[43m)\u001B[49m\u001B[43m)\u001B[49m\n\u001B[1;32m     27\u001B[0m \u001B[38;5;66;03m# TODO: Cannot insert position in one field\u001B[39;00m\n",
      "\u001B[0;31mValueError\u001B[0m: cannot reshape array of size 299997 into shape (3,1)",
      "\nDuring handling of the above exception, another exception occurred:\n",
      "\u001B[0;31mIndexError\u001B[0m                                Traceback (most recent call last)",
      "Input \u001B[0;32mIn [4]\u001B[0m, in \u001B[0;36m<module>\u001B[0;34m\u001B[0m\n\u001B[1;32m      2\u001B[0m timeseries \u001B[38;5;241m=\u001B[39m [\u001B[38;5;241m*\u001B[39m\u001B[38;5;28mrange\u001B[39m(\u001B[38;5;241m1\u001B[39m, \u001B[38;5;241m100000\u001B[39m)]\n\u001B[1;32m      3\u001B[0m animator \u001B[38;5;241m=\u001B[39m Animator(bodies, timeseries)\n\u001B[0;32m----> 4\u001B[0m \u001B[43manimator\u001B[49m\u001B[38;5;241;43m.\u001B[39;49m\u001B[43manimate\u001B[49m\u001B[43m(\u001B[49m\u001B[43m)\u001B[49m\n",
      "File \u001B[0;32m~/Documents/serversabove/test/animator.py:52\u001B[0m, in \u001B[0;36mAnimator.animate\u001B[0;34m(self, interval, frames, filename)\u001B[0m\n\u001B[1;32m     46\u001B[0m \u001B[38;5;124;03m\"\"\"\u001B[39;00m\n\u001B[1;32m     47\u001B[0m \u001B[38;5;124;03mCreates animation and saves it as a file\u001B[39;00m\n\u001B[1;32m     48\u001B[0m \u001B[38;5;124;03m\"\"\"\u001B[39;00m\n\u001B[1;32m     49\u001B[0m anim \u001B[38;5;241m=\u001B[39m animation\u001B[38;5;241m.\u001B[39mFuncAnimation(plt\u001B[38;5;241m.\u001B[39mgcf(),\n\u001B[1;32m     50\u001B[0m                                \u001B[38;5;28mself\u001B[39m\u001B[38;5;241m.\u001B[39m_create_animation_frame,\n\u001B[1;32m     51\u001B[0m                                interval\u001B[38;5;241m=\u001B[39minterval, frames\u001B[38;5;241m=\u001B[39mframes)\n\u001B[0;32m---> 52\u001B[0m \u001B[43manim\u001B[49m\u001B[38;5;241;43m.\u001B[39;49m\u001B[43msave\u001B[49m\u001B[43m(\u001B[49m\u001B[43mfilename\u001B[49m\u001B[43m,\u001B[49m\u001B[43m \u001B[49m\u001B[43mwriter\u001B[49m\u001B[38;5;241;43m=\u001B[39;49m\u001B[38;5;124;43m'\u001B[39;49m\u001B[38;5;124;43mimagemagic\u001B[39;49m\u001B[38;5;124;43m'\u001B[39;49m\u001B[43m)\u001B[49m\n",
      "File \u001B[0;32m~/Documents/serversabove/test/venv/lib/python3.9/site-packages/matplotlib/animation.py:1095\u001B[0m, in \u001B[0;36mAnimation.save\u001B[0;34m(self, filename, writer, fps, dpi, codec, bitrate, extra_args, metadata, extra_anim, savefig_kwargs, progress_callback)\u001B[0m\n\u001B[1;32m   1093\u001B[0m         progress_callback(frame_number, total_frames)\n\u001B[1;32m   1094\u001B[0m         frame_number \u001B[38;5;241m+\u001B[39m\u001B[38;5;241m=\u001B[39m \u001B[38;5;241m1\u001B[39m\n\u001B[0;32m-> 1095\u001B[0m writer\u001B[38;5;241m.\u001B[39mgrab_frame(\u001B[38;5;241m*\u001B[39m\u001B[38;5;241m*\u001B[39msavefig_kwargs)\n",
      "File \u001B[0;32m/usr/lib/python3.9/contextlib.py:137\u001B[0m, in \u001B[0;36m_GeneratorContextManager.__exit__\u001B[0;34m(self, typ, value, traceback)\u001B[0m\n\u001B[1;32m    135\u001B[0m     value \u001B[38;5;241m=\u001B[39m typ()\n\u001B[1;32m    136\u001B[0m \u001B[38;5;28;01mtry\u001B[39;00m:\n\u001B[0;32m--> 137\u001B[0m     \u001B[38;5;28;43mself\u001B[39;49m\u001B[38;5;241;43m.\u001B[39;49m\u001B[43mgen\u001B[49m\u001B[38;5;241;43m.\u001B[39;49m\u001B[43mthrow\u001B[49m\u001B[43m(\u001B[49m\u001B[43mtyp\u001B[49m\u001B[43m,\u001B[49m\u001B[43m \u001B[49m\u001B[43mvalue\u001B[49m\u001B[43m,\u001B[49m\u001B[43m \u001B[49m\u001B[43mtraceback\u001B[49m\u001B[43m)\u001B[49m\n\u001B[1;32m    138\u001B[0m \u001B[38;5;28;01mexcept\u001B[39;00m \u001B[38;5;167;01mStopIteration\u001B[39;00m \u001B[38;5;28;01mas\u001B[39;00m exc:\n\u001B[1;32m    139\u001B[0m     \u001B[38;5;66;03m# Suppress StopIteration *unless* it's the same exception that\u001B[39;00m\n\u001B[1;32m    140\u001B[0m     \u001B[38;5;66;03m# was passed to throw().  This prevents a StopIteration\u001B[39;00m\n\u001B[1;32m    141\u001B[0m     \u001B[38;5;66;03m# raised inside the \"with\" statement from being suppressed.\u001B[39;00m\n\u001B[1;32m    142\u001B[0m     \u001B[38;5;28;01mreturn\u001B[39;00m exc \u001B[38;5;129;01mis\u001B[39;00m \u001B[38;5;129;01mnot\u001B[39;00m value\n",
      "File \u001B[0;32m~/Documents/serversabove/test/venv/lib/python3.9/site-packages/matplotlib/animation.py:238\u001B[0m, in \u001B[0;36mAbstractMovieWriter.saving\u001B[0;34m(self, fig, outfile, dpi, *args, **kwargs)\u001B[0m\n\u001B[1;32m    236\u001B[0m     \u001B[38;5;28;01myield\u001B[39;00m \u001B[38;5;28mself\u001B[39m\n\u001B[1;32m    237\u001B[0m \u001B[38;5;28;01mfinally\u001B[39;00m:\n\u001B[0;32m--> 238\u001B[0m     \u001B[38;5;28;43mself\u001B[39;49m\u001B[38;5;241;43m.\u001B[39;49m\u001B[43mfinish\u001B[49m\u001B[43m(\u001B[49m\u001B[43m)\u001B[49m\n",
      "File \u001B[0;32m~/Documents/serversabove/test/venv/lib/python3.9/site-packages/matplotlib/animation.py:514\u001B[0m, in \u001B[0;36mPillowWriter.finish\u001B[0;34m(self)\u001B[0m\n\u001B[1;32m    513\u001B[0m \u001B[38;5;28;01mdef\u001B[39;00m \u001B[38;5;21mfinish\u001B[39m(\u001B[38;5;28mself\u001B[39m):\n\u001B[0;32m--> 514\u001B[0m     \u001B[38;5;28;43mself\u001B[39;49m\u001B[38;5;241;43m.\u001B[39;49m\u001B[43m_frames\u001B[49m\u001B[43m[\u001B[49m\u001B[38;5;241;43m0\u001B[39;49m\u001B[43m]\u001B[49m\u001B[38;5;241m.\u001B[39msave(\n\u001B[1;32m    515\u001B[0m         \u001B[38;5;28mself\u001B[39m\u001B[38;5;241m.\u001B[39moutfile, save_all\u001B[38;5;241m=\u001B[39m\u001B[38;5;28;01mTrue\u001B[39;00m, append_images\u001B[38;5;241m=\u001B[39m\u001B[38;5;28mself\u001B[39m\u001B[38;5;241m.\u001B[39m_frames[\u001B[38;5;241m1\u001B[39m:],\n\u001B[1;32m    516\u001B[0m         duration\u001B[38;5;241m=\u001B[39m\u001B[38;5;28mint\u001B[39m(\u001B[38;5;241m1000\u001B[39m \u001B[38;5;241m/\u001B[39m \u001B[38;5;28mself\u001B[39m\u001B[38;5;241m.\u001B[39mfps), loop\u001B[38;5;241m=\u001B[39m\u001B[38;5;241m0\u001B[39m)\n",
      "\u001B[0;31mIndexError\u001B[0m: list index out of range"
     ]
    },
    {
     "data": {
      "text/plain": "<Figure size 432x288 with 1 Axes>",
      "image/png": "[encoded data removed]"
     },
     "metadata": {
      "needs_background": "light"
     },
     "output_type": "display_data"
    }
   ],
   "source": [
    "from animator import Animator\n",
    "timeseries = [*range(1, 100000)]\n",
    "animator = Animator(bodies, timeseries)\n",
    "animator.animate()"
   ],
   "metadata": {
    "collapsed": false,
    "pycharm": {
     "name": "#%%\n"
    }
   }
  },
  {
   "cell_type": "code",
   "execution_count": null,
   "outputs": [],
   "source": [],
   "metadata": {
    "collapsed": false,
    "pycharm": {
     "name": "#%%\n"
    }
   }
  }
 ],
 "metadata": {
  "kernelspec": {
   "display_name": "Python 3 (ipykernel)",
   "language": "python",
   "name": "python3"
  },
  "language_info": {
   "codemirror_mode": {
    "name": "ipython",
    "version": 3
   },
   "file_extension": ".py",
   "mimetype": "text/x-python",
   "name": "python",
   "nbconvert_exporter": "python",
   "pygments_lexer": "ipython3",
   "version": "3.9.7"
  }
 },
 "nbformat": 4,
 "nbformat_minor": 1
}