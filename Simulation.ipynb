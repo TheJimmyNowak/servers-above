{
 "cells": [
  {
   "cell_type": "code",
   "execution_count": 1,
   "metadata": {
    "pycharm": {
     "name": "#%%\n"
    }
   },
   "outputs": [],
   "source": [
    "EARTH_RADIUS = 6738 * 1000  #  Radius in [m]"
   ]
  },
  {
   "cell_type": "code",
   "execution_count": 2,
   "metadata": {
    "pycharm": {
     "name": "#%%\n"
    }
   },
   "outputs": [],
   "source": [
    "from body import Body\n",
    "\n",
    "ground = Body(EARTH_RADIUS, \"ground station\")\n",
    "server = Body(EARTH_RADIUS + 422 * 10 ** 3, \"server\")\n",
    "satellite = Body(EARTH_RADIUS + 35678 * 10 ** 3, \"satellite\")\n",
    "\n",
    "bodies = (ground, server, satellite)"
   ]
  },
  {
   "cell_type": "code",
   "execution_count": 3,
   "metadata": {
    "pycharm": {
     "name": "#%%\n"
    }
   },
   "outputs": [
    {
     "ename": "IndexError",
     "evalue": "list assignment index out of range",
     "output_type": "error",
     "traceback": [
      "\u001B[0;31m---------------------------------------------------------------------------\u001B[0m",
      "\u001B[0;31mIndexError\u001B[0m                                Traceback (most recent call last)",
      "Input \u001B[0;32mIn [3]\u001B[0m, in \u001B[0;36m<module>\u001B[0;34m\u001B[0m\n\u001B[1;32m      2\u001B[0m \u001B[38;5;28;01mfrom\u001B[39;00m \u001B[38;5;21;01mmatplotlib\u001B[39;00m \u001B[38;5;28;01mimport\u001B[39;00m animation, pyplot \u001B[38;5;28;01mas\u001B[39;00m plt\n\u001B[1;32m      3\u001B[0m \u001B[38;5;28;01mfrom\u001B[39;00m \u001B[38;5;21;01manimator\u001B[39;00m \u001B[38;5;28;01mimport\u001B[39;00m Animator\n\u001B[0;32m----> 5\u001B[0m animator \u001B[38;5;241m=\u001B[39m \u001B[43mAnimator\u001B[49m\u001B[43m(\u001B[49m\u001B[43mbodies\u001B[49m\u001B[43m,\u001B[49m\u001B[43m \u001B[49m\u001B[38;5;28;43mlist\u001B[39;49m\u001B[43m(\u001B[49m\u001B[38;5;28;43mrange\u001B[39;49m\u001B[43m(\u001B[49m\u001B[38;5;241;43m1\u001B[39;49m\u001B[43m,\u001B[49m\u001B[43m \u001B[49m\u001B[38;5;241;43m100000\u001B[39;49m\u001B[43m,\u001B[49m\u001B[43m \u001B[49m\u001B[38;5;241;43m100\u001B[39;49m\u001B[43m)\u001B[49m\u001B[43m)\u001B[49m\u001B[43m)\u001B[49m\n\u001B[1;32m      7\u001B[0m animation_2 \u001B[38;5;241m=\u001B[39m animation\u001B[38;5;241m.\u001B[39mFuncAnimation(plt\u001B[38;5;241m.\u001B[39mgcf(), animator\u001B[38;5;241m.\u001B[39manimate, interval\u001B[38;5;241m=\u001B[39m\u001B[38;5;241m50\u001B[39m, frames\u001B[38;5;241m=\u001B[39m\u001B[38;5;241m50\u001B[39m)\n\u001B[1;32m      8\u001B[0m animation_2\u001B[38;5;241m.\u001B[39msave(\u001B[38;5;124m'\u001B[39m\u001B[38;5;124msimulation.gif\u001B[39m\u001B[38;5;124m'\u001B[39m, writer\u001B[38;5;241m=\u001B[39m\u001B[38;5;124m'\u001B[39m\u001B[38;5;124mimagemagick\u001B[39m\u001B[38;5;124m'\u001B[39m)\n",
      "File \u001B[0;32m~/Documents/serversabove/test/animator.py:18\u001B[0m, in \u001B[0;36mAnimator.__init__\u001B[0;34m(self, bodies, timeframes)\u001B[0m\n\u001B[1;32m     15\u001B[0m \u001B[38;5;28mself\u001B[39m\u001B[38;5;241m.\u001B[39mbodies_history: \u001B[38;5;28mlist\u001B[39m[\u001B[38;5;28mlist\u001B[39m[Position]] \u001B[38;5;241m=\u001B[39m []\n\u001B[1;32m     17\u001B[0m \u001B[38;5;28;01mfor\u001B[39;00m index, body \u001B[38;5;129;01min\u001B[39;00m \u001B[38;5;28menumerate\u001B[39m(\u001B[38;5;28mself\u001B[39m\u001B[38;5;241m.\u001B[39mbodies):\n\u001B[0;32m---> 18\u001B[0m     \u001B[38;5;28mself\u001B[39m\u001B[38;5;241m.\u001B[39mbodies_history[index] \u001B[38;5;241m=\u001B[39m [body\u001B[38;5;241m.\u001B[39mget_position(t) \u001B[38;5;28;01mfor\u001B[39;00m t \u001B[38;5;129;01min\u001B[39;00m timeframes]\n",
      "\u001B[0;31mIndexError\u001B[0m: list assignment index out of range"
     ]
    }
   ],
   "source": [
    "from IPython import display\n",
    "from matplotlib import animation, pyplot as plt\n",
    "from animator import Animator\n",
    "\n",
    "animator = Animator(bodies, list(range(1, 100000, 100)))\n",
    "\n",
    "animation_2 = animation.FuncAnimation(plt.gcf(), animator.animate, interval=50, frames=50)\n",
    "animation_2.save('simulation.gif', writer='imagemagick')\n",
    "# video_2 = animation_2.to_html5_video()\n",
    "# html_code_2 = display.HTML(video_2)\n",
    "# display.display(html_code_2)"
   ]
  },
  {
   "cell_type": "code",
   "execution_count": 19,
   "metadata": {
    "pycharm": {
     "name": "#%%"
    }
   },
   "outputs": [
    {
     "data": {
      "image/png": "[encoded data removed]",
      "text/plain": [
       "<Figure size 432x288 with 1 Axes>"
      ]
     },
     "metadata": {
      "needs_background": "light"
     },
     "output_type": "display_data"
    }
   ],
   "source": [
    "animator.animate(100)"
   ]
  }
 ],
 "metadata": {
  "kernelspec": {
   "display_name": "Python 3 (ipykernel)",
   "language": "python",
   "name": "python3"
  },
  "language_info": {
   "codemirror_mode": {
    "name": "ipython",
    "version": 3
   },
   "file_extension": ".py",
   "mimetype": "text/x-python",
   "name": "python",
   "nbconvert_exporter": "python",
   "pygments_lexer": "ipython3",
   "version": "3.9.7"
  }
 },
 "nbformat": 4,
 "nbformat_minor": 1
}